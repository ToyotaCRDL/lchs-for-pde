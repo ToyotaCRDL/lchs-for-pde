{
 "cells": [
  {
   "cell_type": "code",
   "execution_count": 1,
   "id": "f020a9db-a70a-4bf5-b730-f40346660909",
   "metadata": {},
   "outputs": [],
   "source": [
    "import time\n",
    "import re\n",
    "import numpy as np\n",
    "import matplotlib.pyplot as plt\n",
    "import matplotlib.cm as cm\n",
    "import matplotlib.colors as mcolors\n",
    "import matplotlib.animation as animation\n",
    "\n",
    "from scipy import linalg\n",
    "from scipy import sparse\n",
    "from qiskit import QuantumCircuit, transpile\n",
    "from qiskit_aer import AerSimulator, StatevectorSimulator, UnitarySimulator\n",
    "from qiskit_aer.primitives import Sampler, Estimator\n",
    "from qiskit.quantum_info import SparsePauliOp\n",
    "from tqdm.auto import tqdm\n",
    "\n",
    "from lib import (LinearCombinationHamiltonianSimulation, \n",
    "                WaveEquationEvolution, \n",
    "                LaplacianOperator2d,\n",
    "                OperatorList, \n",
    "                DifferentialOperator, \n",
    "                ShiftOperator,\n",
    "                IdentityOperator,\n",
    "                custom_structure2d)"
   ]
  },
  {
   "cell_type": "code",
   "execution_count": 2,
   "id": "d9949231-27ae-4252-adef-28d886bd0b7f",
   "metadata": {},
   "outputs": [],
   "source": [
    "# Property for figures\n",
    "plt.rcParams['font.family'] = \"Liberation Serif\"\n",
    "plt.rcParams['xtick.direction'] = \"in\"\n",
    "plt.rcParams['ytick.direction'] = \"in\"\n",
    "plt.rcParams['xtick.major.width'] = 1.0\n",
    "plt.rcParams['ytick.major.width'] = 1.0\n",
    "plt.rcParams['xtick.minor.width'] = 0.5\n",
    "plt.rcParams['xtick.major.size'] = 5\n",
    "plt.rcParams['ytick.major.size'] = 5\n",
    "plt.rcParams['xtick.minor.size'] = 2\n",
    "plt.rcParams['font.size'] = 24\n",
    "plt.rcParams['axes.titlesize'] = 24\n",
    "plt.rcParams['axes.labelsize'] = 24\n",
    "plt.rcParams['axes.linewidth'] = 1.0\n",
    "plt.rcParams['lines.linewidth'] = 3.0"
   ]
  },
  {
   "cell_type": "code",
   "execution_count": 3,
   "id": "e48e0217-c25a-4382-96c6-6b559577f7c4",
   "metadata": {},
   "outputs": [],
   "source": [
    "custom = 'custom1'\n",
    "structure = custom_structure2d('{}.txt'.format(custom), add_identity=1)"
   ]
  },
  {
   "cell_type": "code",
   "execution_count": 4,
   "id": "48ad8c44-302a-4514-bb12-2ade8c6cf51e",
   "metadata": {},
   "outputs": [],
   "source": [
    "def wave_equation_evolution_with_object(n, v, structure):\n",
    "    \n",
    "    op = WaveEquationEvolution(n, dim=2, diff_type='forward', periodic='y', compact=False)\n",
    "    factor = (v - 1.0)\n",
    "    for key in structure.keys():\n",
    "        op_list_added = []\n",
    "        coeffs_added = []\n",
    "        # add identity to the most significant bit (ancilla bit)\n",
    "        rho = 'I'*2 + key\n",
    "\n",
    "        for term, coeff in zip(op._op_list, op._coeffs):\n",
    "            if term[0] == 'p':    \n",
    "                c = []\n",
    "                skip = False\n",
    "                for a, b in zip(term, rho):\n",
    "                    # a x b\n",
    "                    if a == 'I':\n",
    "                        c.append(b)\n",
    "                    elif b == 'I':\n",
    "                        c.append(a)\n",
    "                    elif a == 'm' and b == 'o':\n",
    "                        c.append(a)\n",
    "                    elif a == 'p' and b == 'z':\n",
    "                        c.append(a)\n",
    "                    elif a == 'z' and b == 'z':\n",
    "                        c.append(a)\n",
    "                    elif a == 'o' and b == 'o':\n",
    "                        c.append(a)\n",
    "                    else:\n",
    "                        skip = True\n",
    "    \n",
    "                if not skip:\n",
    "                    op_list_added.append(''.join(c))\n",
    "                    coeffs_added.append(factor * coeff)\n",
    "                \n",
    "            elif term[0] == 'm':\n",
    "                c = []\n",
    "                skip = False\n",
    "                for a, b in zip(term, rho):\n",
    "                    # b x a\n",
    "                    if a == 'I':\n",
    "                        c.append(b)\n",
    "                    elif b == 'I':\n",
    "                        c.append(a)\n",
    "                    elif b == 'z' and a == 'm':\n",
    "                        c.append(a)\n",
    "                    elif b == 'o' and a == 'p':\n",
    "                        c.append(a)\n",
    "                    elif b == 'z' and a == 'z':\n",
    "                        c.append(a)\n",
    "                    elif b == 'o' and a == 'o':\n",
    "                        c.append(a)\n",
    "                    else:\n",
    "                        skip = True\n",
    "    \n",
    "                if not skip:\n",
    "                    op_list_added.append(''.join(c))\n",
    "                    coeffs_added.append(factor * coeff)\n",
    "        \n",
    "        op._op_list += op_list_added\n",
    "        op._coeffs += coeffs_added\n",
    "\n",
    "    return op"
   ]
  },
  {
   "cell_type": "code",
   "execution_count": 5,
   "id": "96d3fca8-889e-483c-85d1-85db21bfd687",
   "metadata": {
    "scrolled": true
   },
   "outputs": [
    {
     "data": {
      "application/vnd.jupyter.widget-view+json": {
       "model_id": "3139426d8f544c1db0e01b3f6371d8ec",
       "version_major": 2,
       "version_minor": 0
      },
      "text/plain": [
       "  0%|          | 0/20000 [00:00<?, ?it/s]"
      ]
     },
     "metadata": {},
     "output_type": "display_data"
    },
    {
     "data": {
      "application/vnd.jupyter.widget-view+json": {
       "model_id": "f453948887374608a0e30ceed31dbb01",
       "version_major": 2,
       "version_minor": 0
      },
      "text/plain": [
       "  0%|          | 0/20000 [00:00<?, ?it/s]"
      ]
     },
     "metadata": {},
     "output_type": "display_data"
    }
   ],
   "source": [
    "backend = UnitarySimulator()\n",
    "\n",
    "# Parameters\n",
    "T = 20.0\n",
    "nx = 5\n",
    "ny = 5\n",
    "v = 10\n",
    "\n",
    "# Classical setting\n",
    "dt_cl = 0.001\n",
    "op = LaplacianOperator2d(num_qubits_x=nx, num_qubits_y=ny, periodic='y', neumann='right')\n",
    "n = op.num_qubits + 1\n",
    "K = op.to_matrix(sparse=False)\n",
    "st = OperatorList(list(structure.keys()), list(structure.values()))\n",
    "chi = st.to_matrix(sparse=False).real\n",
    "K = ((v**2 - 1.0) * chi + np.eye(2**(n-1))) @ K\n",
    "KK = np.zeros((2**n, 2**n), dtype=np.complex128)\n",
    "KK[:2**(n-1), 2**(n-1):] = K\n",
    "KK[2**(n-1):, :2**(n-1)] = np.eye(2**(n-1))\n",
    "KK[2**(n-1):, 2**(n-1):] = dt_cl * K\n",
    "\n",
    "# Classical time evolution (FDM)\n",
    "u = np.zeros((2, 2**ny, 2**nx))\n",
    "u[0, 2**(ny-1)-2:2**(ny-1)+2, 2**(nx-1)-2:2**(nx-1)] = 1\n",
    "u = u.flatten()\n",
    "sc = 1 / np.sqrt(np.sum(u))\n",
    "u = u / np.sqrt(np.sum(u))\n",
    "u_list = [u]\n",
    "for D in tqdm(range(int(T/dt_cl))): \n",
    "    u = u + dt_cl * np.dot(KK, u)\n",
    "    u_list.append(u)\n",
    "u_list = np.array(u_list)\n",
    "\n",
    "del K, KK\n",
    "\n",
    "# Quantum setting\n",
    "dt = 0.01\n",
    "dt_sim = 0.001\n",
    "op = wave_equation_evolution_with_object(nx, v, structure)\n",
    "n = op.num_qubits\n",
    "H = op.to_matrix(sparse=False)\n",
    "U = linalg.expm(-1j*H*dt_sim)\n",
    "psi_c = np.zeros((2, 2, 2**nx, 2**ny), dtype=np.complex128)\n",
    "psi_c[0, 0, 2**(ny-1)-2:2**(ny-1)+2, 2**(nx-1)-2:2**(nx-1)] = 1\n",
    "psi_c = psi_c.flatten()\n",
    "psi_c = psi_c / np.sqrt(np.sum(psi_c))\n",
    "\n",
    "# Quantum time evolution (LCHS)\n",
    "sim = LinearCombinationHamiltonianSimulation(op, num_qubits_lcu=0, lsb_pos=0)\n",
    "circ = sim.get_evolve_circ(dt_sim, barrier=False, measure=False)\n",
    "circ = transpile(circ, backend=backend, optimization_level=2, seed_transpiler=42)\n",
    "n = sim._num_qubits\n",
    "qc = QuantumCircuit(n)\n",
    "U_circ = backend.run(circ).result().get_unitary().data\n",
    "U_circ = np.exp(-1j*np.angle(U_circ[0, 0])) * U_circ # global phase\n",
    "psi_q = psi_c.copy()\n",
    "\n",
    "psi_c_list = []\n",
    "psi_q_list = []\n",
    "for D in tqdm(range(int(T/dt_sim))):\n",
    "\n",
    "    if D % int(dt / dt_sim) == 0:\n",
    "        psi_c_list.append(psi_c)\n",
    "        psi_q_list.append(psi_q)\n",
    "    \n",
    "    psi_c = np.dot(U, psi_c)\n",
    "    psi_q = np.dot(U_circ, psi_q)\n",
    "\n",
    "psi_c_list.append(psi_c)\n",
    "psi_q_list.append(psi_q)\n",
    "\n",
    "psi_c_list = np.array(psi_c_list)\n",
    "psi_q_list = np.array(psi_q_list)"
   ]
  },
  {
   "cell_type": "code",
   "execution_count": 6,
   "id": "3260385a-b341-4dfe-b5e3-433f5eea258b",
   "metadata": {},
   "outputs": [
    {
     "data": {
      "text/plain": [
       "[<matplotlib.axis.YTick at 0x7f662b202e30>,\n",
       " <matplotlib.axis.YTick at 0x7f662b203370>,\n",
       " <matplotlib.axis.YTick at 0x7f662b203ee0>]"
      ]
     },
     "execution_count": 6,
     "metadata": {},
     "output_type": "execute_result"
    },
    {
     "data": {
      "image/png": "[encoded data removed]",
      "text/plain": [
       "<Figure size 640x480 with 1 Axes>"
      ]
     },
     "metadata": {},
     "output_type": "display_data"
    }
   ],
   "source": [
    "# Structure (spatially varying parameters)\n",
    "x, y = np.meshgrid(np.arange(2**ny), np.arange(2**nx))\n",
    "z = np.diag(chi * (v - 1.0) + 1.0).reshape((2**ny, 2**nx)) \n",
    "fig, ax = plt.subplots(1, 1)\n",
    "ax.imshow(z, cmap='gray_r', origin='lower')\n",
    "ax.set_aspect('equal')\n",
    "ax.set_xticks(list(range(0, 2**nx, 16)) + [2**nx - 1])\n",
    "ax.set_yticks(list(range(0, 2**ny, 16)) + [2**ny - 1])"
   ]
  },
  {
   "cell_type": "code",
   "execution_count": 7,
   "id": "79d3cf2a-5c5f-4bfb-a0e8-eec55ea22a62",
   "metadata": {},
   "outputs": [
    {
     "name": "stdout",
     "output_type": "stream",
     "text": [
      "0.08333074893162011 0.08343712924239251 0.08344141286608925\n",
      "0.11620781123205591 0.1158675841709559 0.11582240632986757\n",
      "0.35355339059327373 0.35355339059327373 0.35355339059327373\n"
     ]
    },
    {
     "data": {
      "text/plain": [
       "<Figure size 640x480 with 0 Axes>"
      ]
     },
     "metadata": {},
     "output_type": "display_data"
    },
    {
     "data": {
      "image/png": "[encoded data removed]",
      "text/plain": [
       "<Figure size 1600x1400 with 10 Axes>"
      ]
     },
     "metadata": {},
     "output_type": "display_data"
    }
   ],
   "source": [
    "idx = [0, 10, 20]\n",
    "\n",
    "u_list_tmp = u_list.copy()\n",
    "u_list_tmp[:, :2**(n-2)] = (u_list[:, :2**(n-2)] / ( (v - 1.0) * np.diag(chi) + 1 )[None, :] )\n",
    "psi_c_list_tmp = psi_c_list.copy()\n",
    "psi_q_list_tmp = psi_q_list.copy()\n",
    "\n",
    "vmax = None\n",
    "vmin = None\n",
    "for i in range(len(idx)):\n",
    "    qmax = psi_q_list_tmp[int(idx[i]/dt), :2**(n-2)].real.max()\n",
    "    cmax = psi_c_list_tmp[int(idx[i]/dt), :2**(n-2)].real.max()\n",
    "    umax = u_list_tmp[int(idx[i]/dt_cl), :2**(n-2)].real.max()\n",
    "    \n",
    "    qmin = psi_q_list_tmp[int(idx[i]/dt), :2**(n-2)].real.min()\n",
    "    cmin = psi_c_list_tmp[int(idx[i]/dt), :2**(n-2)].real.min()\n",
    "    umin = u_list_tmp[int(idx[i]/dt_cl), :2**(n-2)].real.min()\n",
    "    \n",
    "    vmax_tmp = max(qmax, cmax, umax)\n",
    "    vmin_tmp = min(qmin, cmin, umin)\n",
    "    if vmax is None or vmax < vmax_tmp:\n",
    "        vmax = vmax_tmp\n",
    "    if vmin is None or vmin > vmin_tmp:\n",
    "        vmin = vmin_tmp\n",
    "\n",
    "cmap = 'bwr'\n",
    "norm = mcolors.Normalize(vmin=vmin, vmax=vmax)\n",
    "\n",
    "plt.subplots_adjust(wspace=0.4, hspace=0.4)\n",
    "fig, ax = plt.subplots(len(idx), 3, figsize=(16, 14))\n",
    "for i in reversed(range(len(idx))):\n",
    "    x, y = np.meshgrid(np.arange(2**ny), np.arange(2**nx))\n",
    "    z0 = psi_q_list_tmp[int(idx[i]/dt), :2**(n-2)].real.reshape((2**ny, 2**nx))\n",
    "    ax[i, 0].imshow(z0, norm=norm, cmap=cmap, origin='lower')\n",
    "    ax[i, 0].set_aspect('equal')\n",
    "    ax[i, 0].set_xticks(list(range(0, 2**nx, 16)) + [2**nx - 1])\n",
    "    ax[i, 0].set_yticks(list(range(0, 2**ny, 16)) + [2**ny - 1])\n",
    "    \n",
    "    z1 = psi_c_list_tmp[int(idx[i]/dt), :2**(n-2)].real.reshape((2**ny, 2**nx))\n",
    "    ax[i, 1].imshow(z1, norm=norm, cmap=cmap, origin='lower')\n",
    "    ax[i, 1].set_aspect('equal')\n",
    "    ax[i, 1].set_xticks(list(range(0, 2**nx, 16)) + [2**nx - 1])\n",
    "    ax[i, 1].set_yticks(list(range(0, 2**ny, 16)) + [2**ny - 1])\n",
    "    \n",
    "    z2 = u_list_tmp[int(idx[i]/dt_cl), :2**(n-2)].real.reshape((2**ny, 2**nx))\n",
    "    ax[i, 2].imshow(z2, norm=norm, cmap=cmap, origin='lower')\n",
    "    ax[i, 2].set_aspect('equal')\n",
    "    ax[i, 2].set_xticks(list(range(0, 2**nx, 16)) + [2**nx - 1])\n",
    "    ax[i, 2].set_yticks(list(range(0, 2**ny, 16)) + [2**ny - 1])\n",
    "    print(z0.max(), z1.max(), z2.max())\n",
    "pp = fig.colorbar(cm.ScalarMappable(norm=norm, cmap=cmap), \n",
    "                  ax=ax.ravel().tolist(), pad=0.025, shrink=0.5)"
   ]
  }
 ],
 "metadata": {
  "kernelspec": {
   "display_name": "qiskit_1",
   "language": "python",
   "name": "qiskit_1"
  },
  "language_info": {
   "codemirror_mode": {
    "name": "ipython",
    "version": 3
   },
   "file_extension": ".py",
   "mimetype": "text/x-python",
   "name": "python",
   "nbconvert_exporter": "python",
   "pygments_lexer": "ipython3",
   "version": "3.10.9"
  }
 },
 "nbformat": 4,
 "nbformat_minor": 5
}
